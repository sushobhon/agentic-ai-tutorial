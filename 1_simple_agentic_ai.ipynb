{
 "cells": [
  {
   "cell_type": "markdown",
   "id": "7387a3da",
   "metadata": {},
   "source": [
    "## Notebook Details\n",
    "Create Simple Agent using `Ollama` and two user defined function.\n",
    "\n",
    "Creating two function as tools. Those function are -\n",
    "- 1. Calculator Tools.\n",
    "- 2. wikipwdia web search.\n",
    "\n",
    "User will ask a question. The Agent will deside which tools to use and then get the Answer"
   ]
  },
  {
   "cell_type": "markdown",
   "id": "4ef555f2",
   "metadata": {},
   "source": [
    "## Defining Tools"
   ]
  },
  {
   "cell_type": "code",
   "execution_count": 1,
   "id": "b9bc734d",
   "metadata": {},
   "outputs": [],
   "source": [
    "# import Necessary Library\n",
    "import re\n",
    "import requests\n",
    "import ollama\n",
    "import time"
   ]
  },
  {
   "cell_type": "code",
   "execution_count": 2,
   "id": "0ea1a0cf",
   "metadata": {},
   "outputs": [],
   "source": [
    "# 1. Simple calculator tool\n",
    "def calculator_tool(query):\n",
    "    \"\"\"A simple calculator tool.\"\"\"\n",
    "    try:\n",
    "        # Keep only numbers, operators, parentheses, and dots\n",
    "        cleaned_expr = query.split('=')[0]  # Remove anything after '='\n",
    "        cleaned_expr = \"\".join(cleaned_expr).strip()\n",
    "        return str(eval(cleaned_expr))\n",
    "    except Exception as e:\n",
    "        return f\"Error in calculation: {e}\""
   ]
  },
  {
   "cell_type": "code",
   "execution_count": 3,
   "id": "0dbbd425",
   "metadata": {},
   "outputs": [],
   "source": [
    "# 2. Wikipedia search tool\n",
    "def web_search(query):\n",
    "    url = \"https://en.wikipedia.org/w/api.php\"\n",
    "    params = {\n",
    "        \"action\": \"query\",\n",
    "        \"list\": \"search\",\n",
    "        \"srsearch\": query,\n",
    "        \"format\": \"json\"\n",
    "    }\n",
    "    try:\n",
    "        response = requests.get(url, params=params)\n",
    "        data = response.json()\n",
    "        if \"query\" in data and \"search\" in data[\"query\"]:\n",
    "            results = [item['snippet'] for item in data['query']['search']]\n",
    "            return \"\\n\".join(results) if results else \"No results found on Wikipedia.\"\n",
    "        else:\n",
    "            return \"No results found.\"\n",
    "    except Exception as e:\n",
    "        return f\"Error searching Wikipedia: {e}\""
   ]
  },
  {
   "cell_type": "markdown",
   "id": "9bb7c538",
   "metadata": {},
   "source": [
    "## Defining an Agent"
   ]
  },
  {
   "cell_type": "code",
   "execution_count": 7,
   "id": "392f4055",
   "metadata": {},
   "outputs": [],
   "source": [
    "def agent(query, model=\"llama3.2:latest\"):\n",
    "    # Step 1: Ask the LLM to deside what to do\n",
    "    system_prompt = \"\"\"\n",
    "    You are a helpful AI assistant. You can either perform calculations or search the web.\n",
    "    - CALCULATE: <math expression>\n",
    "    - SEARCH: <search query>\n",
    "    - ANSWER: <your answer>\n",
    "\n",
    "    Output ONLY one of the above actions on the FIRST line. \n",
    "    Do not explain your reasoning. Do not add extra commentary.\n",
    "    \n",
    "    Example:\n",
    "    Q: What is 12*(5+2)?\n",
    "    A: CALCULATE: 12*(5+2)\n",
    "    \n",
    "    Q: Who is the president of the USA?\n",
    "    A: SEARCH: Who is the president of the USA?\n",
    "    \n",
    "    Q: Tell me a joke about Cats.\n",
    "    A: ANSWER: Sure, here is a joke:\n",
    "    \"\"\"\n",
    "    decision_response = ollama.chat(\n",
    "        model=model,\n",
    "        messages=[\n",
    "            {\"role\": \"system\", \"content\": system_prompt},\n",
    "            {\"role\": \"user\", \"content\": query}\n",
    "        ]\n",
    "    )\n",
    "\n",
    "    decision = decision_response['message']['content'].strip()\n",
    "\n",
    "    # Normalize the decision\n",
    "    first_line = decision.split('\\n')[0].strip()\n",
    "\n",
    "    # print(f\"\\tDecision made by LLM: {first_line}\")\n",
    "\n",
    "    # STEP 2: Execute the decision\n",
    "    if \"CALCULATE\" in first_line:\n",
    "        expression = first_line.split(\"CALCULATE:\", 1)[1].strip()\n",
    "        return calculator_tool(expression)\n",
    "    elif \"SEARCH:\" in first_line:\n",
    "        query = first_line.split(\"SEARCH:\")[1].strip()\n",
    "        return web_search(query)\n",
    "    elif \"ANSWER:\" in first_line:\n",
    "        return first_line.split(\"ANSWER:\")[1].strip()\n",
    "    else:\n",
    "        return \"I didn't understand the instruction. Please try again with a clear command.\"\n"
   ]
  },
  {
   "cell_type": "markdown",
   "id": "b1aec036",
   "metadata": {},
   "source": [
    "<!-- ## Use Cases -->"
   ]
  },
  {
   "cell_type": "code",
   "execution_count": 8,
   "id": "82ebe212",
   "metadata": {},
   "outputs": [
    {
     "name": "stdout",
     "output_type": "stream",
     "text": [
      "75\n"
     ]
    }
   ],
   "source": [
    "print(agent(\"What is 15 * (3 + 2)?\"))"
   ]
  },
  {
   "cell_type": "code",
   "execution_count": 9,
   "id": "838e614a",
   "metadata": {},
   "outputs": [
    {
     "name": "stdout",
     "output_type": "stream",
     "text": [
      "New Delhi\n"
     ]
    }
   ],
   "source": [
    "print(agent(\"What is the Capital of India?\"))"
   ]
  },
  {
   "cell_type": "code",
   "execution_count": 10,
   "id": "a5998b03",
   "metadata": {},
   "outputs": [
    {
     "name": "stdout",
     "output_type": "stream",
     "text": [
      "Why did the girl bring a ladder to the party? Because she heard the drinks were on the house.\n"
     ]
    }
   ],
   "source": [
    "print(agent(\"Tell me a joke about girls\"))"
   ]
  },
  {
   "cell_type": "code",
   "execution_count": null,
   "id": "70754300",
   "metadata": {},
   "outputs": [],
   "source": []
  }
 ],
 "metadata": {
  "kernelspec": {
   "display_name": "agentic-ai-tutorial",
   "language": "python",
   "name": "python3"
  },
  "language_info": {
   "codemirror_mode": {
    "name": "ipython",
    "version": 3
   },
   "file_extension": ".py",
   "mimetype": "text/x-python",
   "name": "python",
   "nbconvert_exporter": "python",
   "pygments_lexer": "ipython3",
   "version": "3.12.9"
  }
 },
 "nbformat": 4,
 "nbformat_minor": 5
}
