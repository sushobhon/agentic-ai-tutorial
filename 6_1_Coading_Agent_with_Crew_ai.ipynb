{
 "cells": [
  {
   "cell_type": "markdown",
   "id": "a0611d39",
   "metadata": {},
   "source": [
    "## Notebook Contains\n",
    "\n",
    "A Rag Agent using `Cewai`"
   ]
  },
  {
   "cell_type": "markdown",
   "id": "cddfb147",
   "metadata": {},
   "source": [
    "## Importing Libraries"
   ]
  },
  {
   "cell_type": "code",
   "execution_count": 1,
   "id": "beace73b",
   "metadata": {},
   "outputs": [],
   "source": [
    "# Importing Necessaet Libraries\n",
    "import os\n",
    "import sys\n",
    "import io\n",
    "from crewai import LLM, Agent, Task, Crew\n",
    "# from langchain_huggingface import HuggingFaceEmbeddings\n",
    "# from langchain_chroma import Chroma\n",
    "# from langchain.text_splitter import RecursiveCharacterTextSplitter\n",
    "\n",
    "from crewai.tools import BaseTool"
   ]
  },
  {
   "cell_type": "code",
   "execution_count": 2,
   "id": "e8438f2c",
   "metadata": {},
   "outputs": [],
   "source": [
    "# --- Configuration --- #\n",
    "MODEL_NAME = \"ollama/openhermes:latest\"\n"
   ]
  },
  {
   "cell_type": "markdown",
   "id": "2c2c7281",
   "metadata": {},
   "source": [
    "## Definition of Tools"
   ]
  },
  {
   "cell_type": "code",
   "execution_count": 3,
   "id": "84a392df",
   "metadata": {},
   "outputs": [],
   "source": [
    "class CodingAgent(BaseTool):\n",
    "    name: str = \"CodingAgent\"\n",
    "    description: str = \"\"\"A coding agent that can write and execute Python code based on user queries.\n",
    "    It returns the output of the code if successful, or an error message if an error occurs.\n",
    "    The query must be a valid Python code block.\n",
    "    \"\"\"\n",
    "\n",
    "    def _run(self, query: str) -> str:\n",
    "        \"\"\"Run the coding agent to write and execute Python code based on the query.\"\"\"\n",
    "        \n",
    "        # We need to capture the output, so we redirect stdout to a string buffer.\n",
    "        old_stdout = sys.stdout\n",
    "        redirected_output = io.StringIO()\n",
    "        sys.stdout = redirected_output\n",
    "        \n",
    "        try:\n",
    "            # Execute the user's query as a code block.\n",
    "            # The 'exec' function can run multi-line statements, including imports and function definitions.\n",
    "            exec(query)\n",
    "            \n",
    "            # Get the output from the redirected buffer.\n",
    "            output = redirected_output.getvalue()\n",
    "            \n",
    "            # Restore the original stdout.\n",
    "            sys.stdout = old_stdout\n",
    "            \n",
    "            # If there's no output, we return a message indicating success.\n",
    "            if not output.strip():\n",
    "                return \"Code executed successfully with no output.\"\n",
    "            \n",
    "            # Return the captured output.\n",
    "            return output\n",
    "            \n",
    "        except Exception as e:\n",
    "            # If any error occurs during execution, capture it and return the error message.\n",
    "            # Restore the original stdout first.\n",
    "            sys.stdout = old_stdout\n",
    "            return f\"An error occurred while executing the code: {e}\""
   ]
  },
  {
   "cell_type": "code",
   "execution_count": 4,
   "id": "6b7f25b2",
   "metadata": {},
   "outputs": [
    {
     "name": "stdout",
     "output_type": "stream",
     "text": [
      "Hello\n",
      "\n"
     ]
    }
   ],
   "source": [
    "coading_tool = CodingAgent()\n",
    "\n",
    "print(coading_tool._run(\"print('Hello')\"))  # Test the tool"
   ]
  },
  {
   "cell_type": "markdown",
   "id": "4537e3d8",
   "metadata": {},
   "source": [
    "## Initializing LLM"
   ]
  },
  {
   "cell_type": "code",
   "execution_count": 5,
   "id": "0ee3a9fc",
   "metadata": {},
   "outputs": [],
   "source": [
    "# --- Configuring the LLM --- #\n",
    "llm = LLM(\n",
    "    model= MODEL_NAME,\n",
    "    temperature=0.7\n",
    ")\n"
   ]
  },
  {
   "cell_type": "code",
   "execution_count": 6,
   "id": "48d5b799",
   "metadata": {},
   "outputs": [],
   "source": [
    "# Instantiate the tools\n",
    "retrival_tool = CodingAgent()\n",
    "\n",
    "# define Agent first\n",
    "agent = Agent(\n",
    "    role=\"Coading Agent\",\n",
    "    goal=\"\"\"Write python code based on user queries and answer executing code.\"\"\",\n",
    "    backstory= \"\"\"You are a helpful assistant. You can write and execute Python code based on user queries and return the output,\n",
    "      executing the code.\"\"\",\n",
    "    # verbose=True,\n",
    "    verbose=False,\n",
    "    tools=[retrival_tool],\n",
    "    llm=llm\n",
    ")\n",
    "\n",
    "# Define Task\n",
    "task = Task(\n",
    "    description=f\"\"\"Write clean python code based on the user query.\n",
    "    User Query: {{query}}\"\"\",\n",
    "    expected_output=\"return the code like ```CODE:\\n``` and the output of the code.\",\n",
    "    agent=agent\n",
    ")\n",
    "\n",
    "# Define Crew\n",
    "crew = Crew(\n",
    "    agents=[agent],\n",
    "    tasks=[task],\n",
    "    # verbose=True\n",
    "    verbose=False\n",
    ")"
   ]
  },
  {
   "cell_type": "code",
   "execution_count": 7,
   "id": "de2eb7d1",
   "metadata": {},
   "outputs": [
    {
     "name": "stdout",
     "output_type": "stream",
     "text": [
      "CODE: `print(\"Hello World\")`\n",
      "Output: `Hello World`\n"
     ]
    }
   ],
   "source": [
    "# Checking if Crew is ready\n",
    "print(crew.kickoff(inputs={\"query\": \"write a python code to print 'Hello World'.\"}) )"
   ]
  },
  {
   "cell_type": "code",
   "execution_count": 8,
   "id": "c375b4e7",
   "metadata": {},
   "outputs": [],
   "source": [
    "# Defning Main Function\n",
    "def main():\n",
    "    \"\"\"Main function to kickoff the Crew.\"\"\"\n",
    "    print(\"\\n\\t--- Starting Crew for RAG Agent ---\")\n",
    "    \n",
    "    while True:\n",
    "        user_query = input(\"Enter your query (or type 'exit' to quit): \")\n",
    "        print(f\"\\n🙎‍♂️: {user_query}\")\n",
    "        if user_query.lower() == 'exit':\n",
    "            print(\"Exiting the Crew. Goodbye!\")\n",
    "            break\n",
    "        \n",
    "        # Kickoff the Crew with the user query\n",
    "        response = crew.kickoff(inputs={\"query\": user_query})\n",
    "        print(f\"🤖: {response}\")"
   ]
  },
  {
   "cell_type": "code",
   "execution_count": 10,
   "id": "21ea290f",
   "metadata": {},
   "outputs": [
    {
     "name": "stdout",
     "output_type": "stream",
     "text": [
      "\n",
      "\t--- Starting Crew for RAG Agent ---\n",
      "\n",
      "🙎‍♂️: write a python code to generate a tringle with star. The Trangle will be horizontally symmetric. user can give number of rows. show output for n = 5\n",
      "🤖: CODE: n = 5\n",
      "for i in range(n):\n",
      "    print('*' * (2 * i + 1))\n",
      "\n",
      "OUTPUT:\n",
      "*\n",
      "***\n",
      "*****\n",
      "*******\n",
      "*********\n",
      "\n",
      "🙎‍♂️: Now create a triagle with natural numbers. Code should be modular. User will give the value for n. show output for n=4\n",
      "🤖: ```\n",
      "CODE:\n",
      "def create_triangle(n):\n",
      "    for i in range(1, n+1):\n",
      "        for j in range(i):\n",
      "            print(j + 1, end=\" \")\n",
      "        print()\n",
      "\n",
      "# Example usage: create_triangle(4)\n",
      "create_triangle(4)\n",
      "\n",
      "Output: \n",
      "1 \n",
      "1 2 \n",
      "1 2 3 \n",
      "1 2 3 4 \n",
      "```\n",
      "\n",
      "🙎‍♂️: Write a pyython function to create a natural number triangle. the format of the triangle will be a center. and the user will give the row number. Show the result for n = 5\n",
      "🤖: CODE:\n",
      "```python\n",
      "def triangle(n):\n",
      "    for i in range(1, n+1):\n",
      "        row = ''\n",
      "        for j in range(i):\n",
      "            row += str(j + 1) + ' '\n",
      "        print(row.rstrip())\n",
      "\n",
      "triangle(5)\n",
      "```\n",
      "\n",
      "Output:\n",
      "```\n",
      "1 \n",
      "1 2 \n",
      "1 2 3 \n",
      "1 2 3 4 \n",
      "1 2 3 4 5 \n",
      "```\n",
      "\n",
      "🙎‍♂️: exit\n",
      "Exiting the Crew. Goodbye!\n"
     ]
    }
   ],
   "source": [
    "main()"
   ]
  },
  {
   "cell_type": "code",
   "execution_count": null,
   "id": "dbbc406b",
   "metadata": {},
   "outputs": [],
   "source": []
  }
 ],
 "metadata": {
  "kernelspec": {
   "display_name": "agentic-ai-tutorial",
   "language": "python",
   "name": "python3"
  },
  "language_info": {
   "codemirror_mode": {
    "name": "ipython",
    "version": 3
   },
   "file_extension": ".py",
   "mimetype": "text/x-python",
   "name": "python",
   "nbconvert_exporter": "python",
   "pygments_lexer": "ipython3",
   "version": "3.12.9"
  }
 },
 "nbformat": 4,
 "nbformat_minor": 5
}
