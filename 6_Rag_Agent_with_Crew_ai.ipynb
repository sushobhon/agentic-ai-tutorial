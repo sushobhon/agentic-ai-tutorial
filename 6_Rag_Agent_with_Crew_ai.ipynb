{
 "cells": [
  {
   "cell_type": "markdown",
   "id": "a0611d39",
   "metadata": {},
   "source": [
    "## Notebook Contains\n",
    "\n",
    "A Rag Agent using `Cewai`.\n",
    "\n",
    "Used `HR_Policy.txt` as a Document. User will ask question and the Agent will reply based on the information in the txt file."
   ]
  },
  {
   "cell_type": "markdown",
   "id": "cddfb147",
   "metadata": {},
   "source": [
    "## Importing Libraries"
   ]
  },
  {
   "cell_type": "code",
   "execution_count": 1,
   "id": "beace73b",
   "metadata": {},
   "outputs": [
    {
     "name": "stderr",
     "output_type": "stream",
     "text": [
      "HTTPSConnectionPool(host='telemetry.crewai.com', port=4319): Max retries exceeded with url: /v1/traces (Caused by ConnectTimeoutError(<urllib3.connection.HTTPSConnection object at 0x00000251C98A77D0>, 'Connection to telemetry.crewai.com timed out. (connect timeout=30.0)'))\n",
      "HTTPSConnectionPool(host='telemetry.crewai.com', port=4319): Max retries exceeded with url: /v1/traces (Caused by ConnectTimeoutError(<urllib3.connection.HTTPSConnection object at 0x00000251C69324E0>, 'Connection to telemetry.crewai.com timed out. (connect timeout=30.0)'))\n",
      "HTTPSConnectionPool(host='telemetry.crewai.com', port=4319): Max retries exceeded with url: /v1/traces (Caused by ConnectTimeoutError(<urllib3.connection.HTTPSConnection object at 0x00000251C98A54F0>, 'Connection to telemetry.crewai.com timed out. (connect timeout=30.0)'))\n",
      "HTTPSConnectionPool(host='telemetry.crewai.com', port=4319): Max retries exceeded with url: /v1/traces (Caused by ConnectTimeoutError(<urllib3.connection.HTTPSConnection object at 0x00000251C98A4E60>, 'Connection to telemetry.crewai.com timed out. (connect timeout=30.0)'))\n"
     ]
    }
   ],
   "source": [
    "# Importing Necessaet Libraries\n",
    "import os\n",
    "from crewai import LLM, Agent, Task, Crew\n",
    "from langchain_huggingface import HuggingFaceEmbeddings\n",
    "from langchain_chroma import Chroma\n",
    "from langchain.text_splitter import RecursiveCharacterTextSplitter\n",
    "\n",
    "from crewai.tools import BaseTool"
   ]
  },
  {
   "cell_type": "code",
   "execution_count": 2,
   "id": "e8438f2c",
   "metadata": {},
   "outputs": [],
   "source": [
    "# --- Configuration --- #\n",
    "MODEL_NAME = \"ollama/openhermes:latest\"\n",
    "DATA_FILE = \"Data\"\n",
    "DATA_FILE = os.path.join(DATA_FILE, \"HR_Policy.txt\")\n",
    "VECTORSTORE_DIR = \"hr_policy_vectorstore\"\n",
    "EMBEDDING_MODEL = \"all-MiniLM-L6-v2\"\n",
    "CHUNK_SIZE = 1000\n",
    "CHUNK_OVERLAP = 150\n"
   ]
  },
  {
   "cell_type": "markdown",
   "id": "ac164200",
   "metadata": {},
   "source": [
    "## Creating Vector Database"
   ]
  },
  {
   "cell_type": "code",
   "execution_count": 3,
   "id": "bb36bf40",
   "metadata": {},
   "outputs": [],
   "source": [
    "# Loading and Chunking the Data\n",
    "def load_and_chunk_documents():\n",
    "    \"\"\"\"Loads the HR policy data from the TXT file and splits it into smaller chunks.\"\"\"\n",
    "    print(\"\\t --- Step 1: Loading and Chunking Data ---\")\n",
    "\n",
    "    if not os.path.exists(DATA_FILE):\n",
    "        print(f\"Data file {DATA_FILE} does not exist.\")\n",
    "        return None\n",
    "\n",
    "    # Read the text file\n",
    "    with open(DATA_FILE, 'r', encoding='utf-8') as file:\n",
    "        full_text = file.read()\n",
    "    \n",
    "    # Split the text into chunks\n",
    "    documents = [full_text]\n",
    "\n",
    "    text_splitter = RecursiveCharacterTextSplitter(\n",
    "        chunk_size= CHUNK_SIZE,\n",
    "        chunk_overlap= CHUNK_OVERLAP\n",
    "    )\n",
    "\n",
    "    chunks = text_splitter.create_documents(documents)\n",
    "    print(f\"Data loaded and split into {len(chunks)} chunks.\")\n",
    "    return chunks\n",
    "    "
   ]
  },
  {
   "cell_type": "code",
   "execution_count": 4,
   "id": "9cdb82d7",
   "metadata": {},
   "outputs": [],
   "source": [
    "# Creating and embedding the Vector Store\n",
    "def create_and_store_embeddings(chunks):\n",
    "    \"\"\"Creates a vector store from the chunks of data.\"\"\"\n",
    "    print(\"\\t --- Step 2: Creating Vector Store ---\")\n",
    "\n",
    "    if not chunks:\n",
    "        print(\"No chunks to create vector store.\")\n",
    "        return None\n",
    "\n",
    "    # Initialize the embedding model from HuggingFace\n",
    "    print(f\"Loading embedding model: '{EMBEDDING_MODEL}'...\")\n",
    "    embeddings = HuggingFaceEmbeddings(model_name=EMBEDDING_MODEL)\n",
    "\n",
    "    # Create the Chroma vector store\n",
    "    # This will process all chunks and store their vector representations.\n",
    "    # It will be persisted to disk in the VECTORSTORE_DIR.\n",
    "    print(f\"Creating vector store in '{VECTORSTORE_DIR}'...\")\n",
    "    Chroma.from_documents(\n",
    "        chunks,\n",
    "        embeddings,\n",
    "        persist_directory=VECTORSTORE_DIR\n",
    "    )\n",
    "    print(\"Vector store created and persisted successfully.\")"
   ]
  },
  {
   "cell_type": "code",
   "execution_count": 5,
   "id": "ba4cd7d4",
   "metadata": {},
   "outputs": [
    {
     "name": "stdout",
     "output_type": "stream",
     "text": [
      "\t --- Step 1: Loading and Chunking Data ---\n",
      "Data loaded and split into 25 chunks.\n",
      "\t --- Step 2: Creating Vector Store ---\n",
      "Loading embedding model: 'all-MiniLM-L6-v2'...\n"
     ]
    },
    {
     "name": "stderr",
     "output_type": "stream",
     "text": [
      "c:\\Users\\Karmakar\\Desktop\\Course\\Agentic-AI\\agentic-ai-tutorial\\.venv\\Lib\\site-packages\\tqdm\\auto.py:21: TqdmWarning: IProgress not found. Please update jupyter and ipywidgets. See https://ipywidgets.readthedocs.io/en/stable/user_install.html\n",
      "  from .autonotebook import tqdm as notebook_tqdm\n"
     ]
    },
    {
     "name": "stdout",
     "output_type": "stream",
     "text": [
      "Creating vector store in 'hr_policy_vectorstore'...\n",
      "Vector store created and persisted successfully.\n",
      "\n",
      "\t--- Data Ingestion Complete ---\n",
      "Vector store is ready in the 'hr_policy_vectorstore' directory.\n"
     ]
    }
   ],
   "source": [
    "# Manually download the dataset first as per the instructions in the function.\n",
    "doc_chunks = load_and_chunk_documents()\n",
    "if doc_chunks:\n",
    "    create_and_store_embeddings(doc_chunks)\n",
    "print(\"\\n\\t--- Data Ingestion Complete ---\")\n",
    "print(f\"Vector store is ready in the '{VECTORSTORE_DIR}' directory.\")"
   ]
  },
  {
   "cell_type": "code",
   "execution_count": 6,
   "id": "c36eef47",
   "metadata": {},
   "outputs": [
    {
     "name": "stdout",
     "output_type": "stream",
     "text": [
      "Loading embeddings and vector store for RAG tool...\n"
     ]
    }
   ],
   "source": [
    "# --- 1. RAG Agent with Crew.ai --- #\n",
    "# Initialize embeddings and vector store once to be used by the tool\n",
    "print(\"Loading embeddings and vector store for RAG tool...\")\n",
    "embeddings = HuggingFaceEmbeddings(model_name=EMBEDDING_MODEL)\n",
    "vectorstore = Chroma(\n",
    "    persist_directory=VECTORSTORE_DIR,\n",
    "    embedding_function=embeddings\n",
    ")\n",
    "retiver = vectorstore.as_retriever(search_kwargs={\"k\": 3}) # Retrieve top 3 results"
   ]
  },
  {
   "cell_type": "markdown",
   "id": "0d953e2c",
   "metadata": {},
   "source": [
    "## Defining Tools"
   ]
  },
  {
   "cell_type": "code",
   "execution_count": 7,
   "id": "0deff259",
   "metadata": {},
   "outputs": [],
   "source": [
    "# Defining retrieval tool\n",
    "class RetrieveHRPolicy(BaseTool):\n",
    "    name: str = \"RetrieveHRPolicy\"\n",
    "    description: str = \"Retrives relevant HR policy information based on the query.\"\n",
    "\n",
    "    def _run(self, query: str) -> str:\n",
    "        \"\"\"Run the retrieval tool to get relevant HR policy information.\"\"\"\n",
    "        # print(f\"Retrieving information for query: {query}\")\n",
    "        results = retiver.invoke(query)\n",
    "\n",
    "        if not results:\n",
    "            return \"No relevant information found in the vector database.\"\n",
    "        \n",
    "        context = \"\\n\".join([doc.page_content for doc in results])\n",
    "        # print(\"\\t--- RAG Tool Finished ---\")\n",
    "        return f\"Retrieved context: \\n{context}\""
   ]
  },
  {
   "cell_type": "code",
   "execution_count": 8,
   "id": "6b7f25b2",
   "metadata": {},
   "outputs": [
    {
     "data": {
      "text/plain": [
       "\"Retrieved context: \\nFAQ's\\n\\nFAQ: Human Resources\\n\\nQ1: How do I request time off and what is the process for approval?\\n\\nA1: To request time off, employees should follow the designated process outlined in the employee handbook. Typically, this involves submitting a request through an online system or directly to their immediate supervisor or the HR department. The request should include the desired dates and the reason for the time off. Approval is subject to manager discretion and business needs, and employees will receive a response confirming or denying their request.\\n\\nQ2: How can I update my personal information, such as address or emergency contacts?\\n\\nA2: To update personal information, employees should notify the HR department or use the designated employee self-service portal, if available. HR will provide the necessary forms or instructions to make the updates. It is essential to keep personal information current to ensure effective communication and for emergency situations.\\nFAQ's\\n\\nFAQ: Human Resources\\n\\nQ1: How do I request time off and what is the process for approval?\\n\\nA1: To request time off, employees should follow the designated process outlined in the employee handbook. Typically, this involves submitting a request through an online system or directly to their immediate supervisor or the HR department. The request should include the desired dates and the reason for the time off. Approval is subject to manager discretion and business needs, and employees will receive a response confirming or denying their request.\\n\\nQ2: How can I update my personal information, such as address or emergency contacts?\\n\\nA2: To update personal information, employees should notify the HR department or use the designated employee self-service portal, if available. HR will provide the necessary forms or instructions to make the updates. It is essential to keep personal information current to ensure effective communication and for emergency situations.\\nFAQ's\\n\\nFAQ: Human Resources\\n\\nQ1: How do I request time off and what is the process for approval?\\n\\nA1: To request time off, employees should follow the designated process outlined in the employee handbook. Typically, this involves submitting a request through an online system or directly to their immediate supervisor or the HR department. The request should include the desired dates and the reason for the time off. Approval is subject to manager discretion and business needs, and employees will receive a response confirming or denying their request.\\n\\nQ2: How can I update my personal information, such as address or emergency contacts?\\n\\nA2: To update personal information, employees should notify the HR department or use the designated employee self-service portal, if available. HR will provide the necessary forms or instructions to make the updates. It is essential to keep personal information current to ensure effective communication and for emergency situations.\""
      ]
     },
     "execution_count": 8,
     "metadata": {},
     "output_type": "execute_result"
    }
   ],
   "source": [
    "retrival_tool = RetrieveHRPolicy()\n",
    "\n",
    "retrival_tool._run(\"What is the process for approval to request time off?\")  # Test the tool"
   ]
  },
  {
   "cell_type": "markdown",
   "id": "4537e3d8",
   "metadata": {},
   "source": [
    "## Initializing LLM"
   ]
  },
  {
   "cell_type": "code",
   "execution_count": 9,
   "id": "0ee3a9fc",
   "metadata": {},
   "outputs": [],
   "source": [
    "# --- Configuring the LLM --- #\n",
    "llm = LLM(\n",
    "    model= MODEL_NAME,\n",
    "    temperature=0.1\n",
    ")\n"
   ]
  },
  {
   "cell_type": "code",
   "execution_count": 10,
   "id": "48d5b799",
   "metadata": {},
   "outputs": [],
   "source": [
    "# Instantiate the tools\n",
    "retrival_tool = RetrieveHRPolicy()\n",
    "\n",
    "# define Agent first\n",
    "agent = Agent(\n",
    "    role=\"RAG Agent\",\n",
    "    goal=\"\"\"Answering user queries from a vector database. You must use the retrieval tool for every query. \n",
    "    If the tool's response is 'No relevant documents found.', you must respond with 'I don't know the answer.'\n",
    "    Otherwise, use the retrieved documents to formulate your answer. Do not use any other tools or methods.\"\"\",\n",
    "    backstory= \"\"\"You are a helpful assistant. You can answer user queries from a vector database created from HR policies.\"\"\",\n",
    "    # verbose=True,\n",
    "    verbose=False,\n",
    "    tools=[retrival_tool],\n",
    "    llm=llm\n",
    ")\n",
    "\n",
    "# Define Task\n",
    "task = Task(\n",
    "    description=f\"\"\"Following is a user Question. Use the retrieval tool to find the relevant HR policies and formulate an answer.\n",
    "    User Query: {{query}}\"\"\",\n",
    "    expected_output=\"Return answer in natural language.\",\n",
    "    agent=agent\n",
    ")\n",
    "\n",
    "# Define Crew\n",
    "crew = Crew(\n",
    "    agents=[agent],\n",
    "    tasks=[task],\n",
    "    # verbose=True\n",
    "    verbose=False\n",
    ")"
   ]
  },
  {
   "cell_type": "code",
   "execution_count": 11,
   "id": "de2eb7d1",
   "metadata": {},
   "outputs": [],
   "source": [
    "# # Checking if Crew is ready\n",
    "# print(crew.kickoff(inputs={\"query\": \"What is the process for approval to request time off?\"}))"
   ]
  },
  {
   "cell_type": "code",
   "execution_count": 12,
   "id": "c375b4e7",
   "metadata": {},
   "outputs": [],
   "source": [
    "# Defning Main Function\n",
    "def main():\n",
    "    \"\"\"Main function to kickoff the Crew.\"\"\"\n",
    "    print(\"\\n\\t--- Starting Crew for RAG Agent ---\")\n",
    "    \n",
    "    while True:\n",
    "        user_query = input(\"Enter your query (or type 'exit' to quit): \")\n",
    "        print(f\"\\n🙎‍♂️: {user_query}\")\n",
    "        if user_query.lower() == 'exit':\n",
    "            print(\"Exiting the Crew. Goodbye!\")\n",
    "            break\n",
    "        \n",
    "        # Kickoff the Crew with the user query\n",
    "        response = crew.kickoff(inputs={\"query\": user_query})\n",
    "        print(f\"🤖: {response}\")"
   ]
  },
  {
   "cell_type": "code",
   "execution_count": 13,
   "id": "21ea290f",
   "metadata": {},
   "outputs": [
    {
     "name": "stdout",
     "output_type": "stream",
     "text": [
      "\n",
      "\t--- Starting Crew for RAG Agent ---\n",
      "\n",
      "🙎‍♂️:  What is the process for filing a complaint or grievance against a coworker or manager?\n",
      "🤖: If you have a complaint or grievance against a coworker or manager, we encourage you to follow our open-door policy and initially discuss the matter with your immediate supervisor. If the issue remains unresolved, you can escalate it to the HR department by submitting a formal complaint or grievance in writing. HR will conduct a thorough investigation, ensuring confidentiality and fairness, and take appropriate action based on the findings.\n",
      "\n",
      "🙎‍♂️: What is the highest mountain?\n",
      "🤖: The highest mountain is not mentioned in the HR policies provided.\n",
      "\n",
      "🙎‍♂️: What employee benefits are available, and how can I access them?\n",
      "🤖: Our company offers a range of employee benefits, including health insurance, retirement plans, paid time off, training and development opportunities, and flexible work arrangements. The details of these benefits, including eligibility and enrollment procedures, will be provided in the employee handbook or through HR communication channels. Employees can reach out to the HR department for specific questions or guidance on accessing and utilizing these benefits.\n",
      "\n",
      "🙎‍♂️: exit\n",
      "Exiting the Crew. Goodbye!\n"
     ]
    }
   ],
   "source": [
    "main()"
   ]
  }
 ],
 "metadata": {
  "kernelspec": {
   "display_name": "agentic-ai-tutorial",
   "language": "python",
   "name": "python3"
  },
  "language_info": {
   "codemirror_mode": {
    "name": "ipython",
    "version": 3
   },
   "file_extension": ".py",
   "mimetype": "text/x-python",
   "name": "python",
   "nbconvert_exporter": "python",
   "pygments_lexer": "ipython3",
   "version": "3.12.9"
  }
 },
 "nbformat": 4,
 "nbformat_minor": 5
}
