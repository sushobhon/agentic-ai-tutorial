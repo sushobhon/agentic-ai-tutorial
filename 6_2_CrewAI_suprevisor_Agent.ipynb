{
 "cells": [
  {
   "cell_type": "markdown",
   "id": "a0611d39",
   "metadata": {},
   "source": [
    "## Notebook Contains\n",
    "\n",
    "A Rag Agent using `Cewai` with short term memory"
   ]
  },
  {
   "cell_type": "markdown",
   "id": "cddfb147",
   "metadata": {},
   "source": [
    "## Importing Libraries"
   ]
  },
  {
   "cell_type": "code",
   "execution_count": null,
   "id": "7906ec9d",
   "metadata": {},
   "outputs": [],
   "source": [
    "# Importing Necessaet Libraries\n",
    "import os\n",
    "import sys\n",
    "import io\n",
    "from crewai import LLM, Agent, Task, Crew, Process\n",
    "\n",
    "from crewai.tools import BaseTool"
   ]
  },
  {
   "cell_type": "code",
   "execution_count": 2,
   "id": "280c26b7",
   "metadata": {},
   "outputs": [],
   "source": [
    "# --- Configuration --- #\n",
    "MODEL_NAME = \"ollama/openhermes:latest\""
   ]
  },
  {
   "cell_type": "code",
   "execution_count": 3,
   "id": "0532d40f",
   "metadata": {},
   "outputs": [],
   "source": [
    "# --- Configuring the LLM --- #\n",
    "llm = LLM(\n",
    "    model= MODEL_NAME,\n",
    "    temperature=0.7\n",
    ")"
   ]
  },
  {
   "cell_type": "markdown",
   "id": "c1d65bef",
   "metadata": {},
   "source": [
    "## Creating Supervisor Agent with memory\n",
    "This class will act as long term memory (persisted between runs)."
   ]
  },
  {
   "cell_type": "code",
   "execution_count": 4,
   "id": "7500e1be",
   "metadata": {},
   "outputs": [],
   "source": [
    "import sqlite3\n",
    "import datetime\n",
    "\n",
    "class SQLiteMemory:\n",
    "    def __init__(self, db_path=\"memory.db\"):\n",
    "        self.conn = sqlite3.connect(db_path)\n",
    "        self.cur = self.conn.cursor()\n",
    "        self.cur.execute(\"\"\"\n",
    "            CREATE TABLE IF NOT EXISTS memory (\n",
    "                id INTEGER PRIMARY KEY AUTOINCREMENT,\n",
    "                role TEXT,\n",
    "                content TEXT,\n",
    "                timestamp TEXT\n",
    "            )\n",
    "        \"\"\")\n",
    "        self.conn.commit()\n",
    "\n",
    "    def save(self, role, content):\n",
    "        ts = datetime.datetime.now().isoformat()\n",
    "        self.cur.execute(\"INSERT INTO memory (role, content, timestamp) VALUES (?, ?, ?)\", \n",
    "                         (role, content, ts))\n",
    "        self.conn.commit()\n",
    "\n",
    "    def load_recent(self, limit=10):\n",
    "        self.cur.execute(\"SELECT role, content FROM memory ORDER BY id DESC LIMIT ?\", (limit,))\n",
    "        return self.cur.fetchall()\n"
   ]
  },
  {
   "cell_type": "markdown",
   "id": "1bd235f7",
   "metadata": {},
   "source": [
    "## Creating Python Coad Runner (Coading Agent)"
   ]
  },
  {
   "cell_type": "code",
   "execution_count": 5,
   "id": "1b1ef244",
   "metadata": {},
   "outputs": [],
   "source": [
    "class CodingAgent(BaseTool):\n",
    "    name: str = \"CodingAgent\"\n",
    "    description: str = \"\"\"A coding agent that can write and execute Python code based on user queries.\n",
    "    It returns the output of the code if successful, or an error message if an error occurs.\n",
    "    The query must be a valid Python code block.\n",
    "    \"\"\"\n",
    "\n",
    "    def _run(self, query: str) -> str:\n",
    "        \"\"\"Run the coding agent to write and execute Python code based on the query.\"\"\"\n",
    "        \n",
    "        # We need to capture the output, so we redirect stdout to a string buffer.\n",
    "        old_stdout = sys.stdout\n",
    "        redirected_output = io.StringIO()\n",
    "        sys.stdout = redirected_output\n",
    "        \n",
    "        try:\n",
    "            # Execute the user's query as a code block.\n",
    "            # The 'exec' function can run multi-line statements, including imports and function definitions.\n",
    "            exec(query)\n",
    "            \n",
    "            # Get the output from the redirected buffer.\n",
    "            output = redirected_output.getvalue()\n",
    "            \n",
    "            # Restore the original stdout.\n",
    "            sys.stdout = old_stdout\n",
    "            \n",
    "            # If there's no output, we return a message indicating success.\n",
    "            if not output.strip():\n",
    "                return \"Code executed successfully with no output.\"\n",
    "            \n",
    "            # Return the captured output.\n",
    "            return output\n",
    "            \n",
    "        except Exception as e:\n",
    "            # If any error occurs during execution, capture it and return the error message.\n",
    "            # Restore the original stdout first.\n",
    "            sys.stdout = old_stdout\n",
    "            return f\"An error occurred while executing the code: {e}\""
   ]
  },
  {
   "cell_type": "code",
   "execution_count": 6,
   "id": "4c04ed70",
   "metadata": {},
   "outputs": [
    {
     "name": "stdout",
     "output_type": "stream",
     "text": [
      "Hello\n",
      "\n"
     ]
    }
   ],
   "source": [
    "coding_tool = CodingAgent()\n",
    "\n",
    "print(coding_tool._run(\"print('Hello')\"))\n",
    "# print(run_python_code(\"print('Hello World!!!')\"))"
   ]
  },
  {
   "cell_type": "code",
   "execution_count": 7,
   "id": "910e28bf",
   "metadata": {},
   "outputs": [],
   "source": [
    "class DirectAnswerTool(BaseTool):\n",
    "    name: str = \"DirectAnswerTool\"\n",
    "    description: str = \"A tool for the supervisor to give a direct, final answer to a query.\"\n",
    "\n",
    "    def _run(self, query: str) -> str:\n",
    "        # This tool's purpose is to signal to the crew that a direct answer has been given.\n",
    "        return f\"Supervisor directly answered the query: {query}\""
   ]
  },
  {
   "cell_type": "code",
   "execution_count": 8,
   "id": "550fd6e1",
   "metadata": {},
   "outputs": [],
   "source": [
    "# Instantiate the tools\n",
    "coding_tool = CodingAgent()\n",
    "helper_tool = DirectAnswerTool()\n",
    "\n",
    "# --- Defining All Agents --- #\n",
    "# Define Coding Agent\n",
    "coding_agent = Agent(\n",
    "    role=\"coding_agent\",\n",
    "    goal=\"\"\"Write python code based on user queries and answer executing code.\"\"\",\n",
    "    backstory= \"\"\"You are a helpful assistant. You can write and execute Python code based on user queries and return the output,\n",
    "      executing the code.\"\"\",\n",
    "    verbose=False,\n",
    "    tools=[coding_tool],\n",
    "    llm=llm\n",
    ")\n",
    "\n",
    "# Defining Helpful Agent\n",
    "helper_agent = Agent(\n",
    "    role= \"helper_agent\",\n",
    "    goal= \"Answer user query based on your knowladge\",\n",
    "    backstory= \"You are a helpful assistant. You try to answer user Question.\",\n",
    "    verbose= False,\n",
    "    tools= [helper_tool],\n",
    "    llm= llm\n",
    ")\n",
    "\n",
    "supervisor_agent = Agent(\n",
    "    role=\"Supervisor Agent\",\n",
    "    goal=\"\"\"Analyze user queries and decide whether to route the request to the Coding Agent or the Helper Agent. Be very strict in your decision-making.\"\"\",\n",
    "    backstory=\"\"\"You are a top-tier assistant that acts as a router for a team of specialized agents.\n",
    "    Your primary function is to classify user requests. You MUST ALWAYS route the query to one of the following agents, by name:\n",
    "    - Coding Agent: For tasks that explicitly require writing, running, or debugging code (e.g., \"write a Python script\", \"calculate X using code\", \"debug this function\").\n",
    "    - Helper Agent: For all other general knowledge questions that can be answered directly from memory (e.g., \"What is the capital of France?\", \"Who invented the lightbulb?\").\n",
    "    You CAN only select one of these agents.\"\"\",\n",
    "    verbose=False,\n",
    "    llm=llm\n",
    ")\n",
    "\n",
    "# --- Defining Tasks --- #\n",
    "# Defining Coading Task\n",
    "coding_task = Task(\n",
    "    description=f\"\"\"Write clean python code based on the user query.\n",
    "        User Query: {{query}}\"\"\",\n",
    "    expected_output=\"return the code like ```CODE:\\n``` and the output of the code like ```OUTPUT:```.\",\n",
    "    agent=coding_agent\n",
    ")\n",
    "\n",
    "# Defining Helper task\n",
    "helper_task = Task(\n",
    "    description= f''' You Answer the user query. Your Answer should be to the point and short.\n",
    "        User Query: {{query}} ''',\n",
    "    expected_output=\"Return Answer in Natural Language\",\n",
    "    agent=helper_agent\n",
    ")\n",
    "\n",
    "\n",
    "supervisor_task = Task(\n",
    "    description=f\"\"\"Analyze the user's query and decide on the best course of action.\n",
    "    - If the query asks for code, delegate to coding_task.\n",
    "    - If the query is a general knowledge question, delegate to helper_task.\n",
    "    User Query: {{query}}\"\"\",\n",
    "    expected_output=\"The Answer can only be 'coding_task' or 'helper_task'. Nothing else.\",\n",
    "    agent=supervisor_agent,\n",
    "    possible_tasks=[coding_task, helper_task]  # 👈 This is the missing link\n",
    ")\n",
    "\n",
    "# --- Defining Crew --- #\n",
    "# Define Crew\n",
    "coding_crew = Crew(\n",
    "    agents=[coding_agent],\n",
    "    tasks=[coding_task],\n",
    "    verbose=False,\n",
    "    process=Process.sequential, # The supervisor task will run first, and its output will feed into the next task.\n",
    ")\n",
    "\n",
    "helper_crew = Crew(\n",
    "    agents= [helper_agent],\n",
    "    tasks= [helper_task],\n",
    "    verbose= False,\n",
    "    process= Process.sequential\n",
    ")\n",
    "\n",
    "supervisor_crew = Crew(\n",
    "    agents= [supervisor_agent],\n",
    "    tasks= [supervisor_task],\n",
    "    verbose= False,\n",
    "    process= Process.sequential\n",
    ")"
   ]
  },
  {
   "cell_type": "code",
   "execution_count": 9,
   "id": "2aa4ede1",
   "metadata": {},
   "outputs": [],
   "source": [
    "# Checking if Crew is ready\n",
    "# print(coading_crew.kickoff(inputs={\"query\": \"calculate the sum of all natural numbers greater than 5 and less than 10.\"}) )\n",
    "# print(helper_crew.kickoff(inputs={'query': \"What is the capital of India?\"}))"
   ]
  },
  {
   "cell_type": "code",
   "execution_count": 12,
   "id": "0e7505ce",
   "metadata": {},
   "outputs": [
    {
     "name": "stdout",
     "output_type": "stream",
     "text": [
      "\n",
      "\t--- Starting Crew for RAG Agent ---\n",
      "\n",
      "🙎‍♂️: Write a python code to print pascle triangle. User will give input as number of rows. Show output for 5 rows\n",
      "\t I need to check with coding_task\n",
      "🤖: CODE:\n",
      "```python\n",
      "def print_pascal(rows):\n",
      "    for i in range(1, rows + 1):\n",
      "        line = [1] * i\n",
      "        print(''.join([str(line[j]) for j in range(i+1)]))\n",
      "```\n",
      "OUTPUT:\n",
      "```python\n",
      "1\n",
      "1 1\n",
      "1 2 1\n",
      "1 3 3 1\n",
      "1 4 6 4 1\n",
      "```\n",
      "\n",
      "🙎‍♂️: Name the people landed on moon with year\n",
      "\t I need to check with helper_task\n",
      "🤖: The people who landed on the Moon are Neil Armstrong, Buzz Aldrin, and Michael Collins. They landed in 1969 as part of the Apollo 11 mission.\n",
      "\n",
      "🙎‍♂️: How many people landed on moon till now?\n",
      "\t I need to check with helper_task\n",
      "🤖: As of now, 12 people have landed on the moon.\n",
      "\n",
      "🙎‍♂️: What are the name of those 12 people?\n",
      "\t I need to check with helper_task\n",
      "🤖: The names of the 12 people can vary depending on context and situation. Without further information, it is impossible to provide a definitive list. Please provide more details or context for me to give you an accurate response.\n",
      "\n",
      "🙎‍♂️: exit\n"
     ]
    }
   ],
   "source": [
    "# Defining Control Flow.\n",
    "def main():\n",
    "    \"\"\"Main function to kickoff the Crew.\"\"\"\n",
    "    print(\"\\n\\t--- Starting Crew for RAG Agent ---\")\n",
    "\n",
    "    while True:\n",
    "        user_query = input(\"Enter your query (or type 'exit' to quit): \")\n",
    "        print(f\"\\n🙎‍♂️: {user_query}\")\n",
    "\n",
    "        # Breaking the loop if exit or quit was input\n",
    "        if user_query.lower() in ['exit', 'quit']:\n",
    "            break\n",
    "\n",
    "        decision = supervisor_crew.kickoff(inputs={'query': user_query})\n",
    "        print(f\"\\t I need to check with {decision}\")\n",
    "\n",
    "        if decision.raw == 'helper_task':\n",
    "            result = helper_crew.kickoff(inputs= {'query': user_query})\n",
    "            print(f\"🤖: {result}\")\n",
    "        elif decision.raw == 'coding_task':\n",
    "            result = coding_crew.kickoff(inputs= {'query': user_query})\n",
    "            print(f\"🤖: {result}\")\n",
    "        else:\n",
    "            print(f\"🤖: I did not find any tool to answer.\")\n",
    "\n",
    "main()"
   ]
  }
 ],
 "metadata": {
  "kernelspec": {
   "display_name": "agentic-ai-tutorial",
   "language": "python",
   "name": "python3"
  },
  "language_info": {
   "codemirror_mode": {
    "name": "ipython",
    "version": 3
   },
   "file_extension": ".py",
   "mimetype": "text/x-python",
   "name": "python",
   "nbconvert_exporter": "python",
   "pygments_lexer": "ipython3",
   "version": "3.12.9"
  }
 },
 "nbformat": 4,
 "nbformat_minor": 5
}
