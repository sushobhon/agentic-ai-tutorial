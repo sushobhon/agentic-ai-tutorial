{
 "cells": [
  {
   "cell_type": "markdown",
   "id": "04720e2c",
   "metadata": {},
   "source": [
    "# Notebook Details\n",
    "\n",
    "In this notebook we will give Long term memory.\n",
    "\n",
    "We have 2 tools:\n",
    "- 1. Calculator Tools.\n",
    "- 2. wikipwdia web search.\n",
    "\n",
    "We will store old conversion to a list and pass this histoy as context of the query.\n",
    "\n",
    "As of now the agent can answer only one query. But We will add looping concept here, So that we can interact with the agent as long as we want."
   ]
  },
  {
   "cell_type": "markdown",
   "id": "5105a9d3",
   "metadata": {},
   "source": [
    "## Defining Tools"
   ]
  },
  {
   "cell_type": "code",
   "execution_count": 1,
   "id": "d140626e",
   "metadata": {},
   "outputs": [],
   "source": [
    "# import Necessary Library\n",
    "import requests\n",
    "import ollama\n",
    "import json\n",
    "import os\n",
    "import re\n",
    "\n",
    "from bs4 import BeautifulSoup"
   ]
  },
  {
   "cell_type": "code",
   "execution_count": 2,
   "id": "2a9bdad6",
   "metadata": {},
   "outputs": [],
   "source": [
    "# --- Configuration --- #\n",
    "MODEL_NAME = \"llama3.1\"\n",
    "MEMORY_PATH = \"memory_V2.json\"\n",
    "MAX_MEMORY = 5"
   ]
  },
  {
   "cell_type": "code",
   "execution_count": 3,
   "id": "c16bed8c",
   "metadata": {},
   "outputs": [],
   "source": [
    "# 1. Simple calculator tool\n",
    "def calculator_tool(query):\n",
    "    \"\"\"A simple calculator tool.\"\"\"\n",
    "    try:\n",
    "        # Keep only numbers, operators, parentheses, and dots\n",
    "        cleaned_expr = query.split('=')[0]  # Remove anything after '='\n",
    "        cleaned_expr = \"\".join(cleaned_expr).strip()\n",
    "        return str(eval(cleaned_expr))\n",
    "    except Exception as e:\n",
    "        return f\"Error in calculation: {e}\""
   ]
  },
  {
   "cell_type": "code",
   "execution_count": 4,
   "id": "f14bafc6",
   "metadata": {},
   "outputs": [],
   "source": [
    "# 2. Wikipedia search tool\n",
    "def clean_text(text):\n",
    "    \"\"\"Remove HTML tags and excessive whitespace.\"\"\"\n",
    "    # If HTML is present, parse it\n",
    "    soup = BeautifulSoup(text, \"html.parser\")\n",
    "    clean = soup.get_text(separator=\" \", strip=True)\n",
    "    # Remove multiple spaces/newlines\n",
    "    clean = re.sub(r\"\\s+\", \" \", clean)\n",
    "    return clean\n",
    "\n",
    "\n",
    "def web_search(query):\n",
    "    url = \"https://en.wikipedia.org/w/api.php\"\n",
    "    params = {\n",
    "        \"action\": \"query\",\n",
    "        \"list\": \"search\",\n",
    "        \"srsearch\": query,\n",
    "        \"format\": \"json\"\n",
    "    }\n",
    "    try:\n",
    "        response = requests.get(url, params=params)\n",
    "        data = response.json()\n",
    "        if \"query\" in data and \"search\" in data[\"query\"]:\n",
    "            results = []\n",
    "            for item in data['query']['search']:\n",
    "                # Remove HTML Tags\n",
    "                clean_text = re.sub(r'<[^>]+>', '', item['snippet'])\n",
    "                results.append(clean_text.strip())\n",
    "            return \"\\n\".join(results) if results else \"No results found on Wikipedia.\"\n",
    "        else:\n",
    "            return \"No results found.\"\n",
    "    except Exception as e:\n",
    "        return f\"Error searching Wikipedia: {e}\""
   ]
  },
  {
   "cell_type": "markdown",
   "id": "f0aacfdd",
   "metadata": {},
   "source": [
    "## Defining Memory"
   ]
  },
  {
   "cell_type": "code",
   "execution_count": 5,
   "id": "eee13693",
   "metadata": {},
   "outputs": [],
   "source": [
    "# Function to load memory from a file\n",
    "def load_memory():\n",
    "    if os.path.exists(MEMORY_PATH):\n",
    "        with open(MEMORY_PATH, \"r\") as f:\n",
    "            return json.load(f)\n",
    "    return []\n",
    "\n",
    "# Function to save memory to a file\n",
    "def save_memory(memory):\n",
    "    with open(MEMORY_PATH, \"w\") as f:\n",
    "        json.dump(memory, f, indent=4)"
   ]
  },
  {
   "cell_type": "markdown",
   "id": "bdd0b2ad",
   "metadata": {},
   "source": [
    "## Defining Agent"
   ]
  },
  {
   "cell_type": "code",
   "execution_count": 6,
   "id": "1e7cf772",
   "metadata": {},
   "outputs": [],
   "source": [
    "# Loading memory\n",
    "memory = load_memory()"
   ]
  },
  {
   "cell_type": "code",
   "execution_count": 7,
   "id": "2ba89bea",
   "metadata": {},
   "outputs": [],
   "source": [
    "def agent(user_input, memory = None, model=\"llama3.2:latest\"):\n",
    "    prompt = f\"\"\"\n",
    "    You are a helpful agent with tools:\n",
    "    1. CALCULATE: for math problems\n",
    "    2. SEARCH: for Wikipedia searches\n",
    "\n",
    "    Decide which tool to use based on the user input.\n",
    "    Respond only with one of the following formats:\n",
    "    CALCULATE: <expression>\n",
    "    SEARCH: <query>\n",
    "    ANSWER: <your direct answer>\n",
    "\n",
    "    Recent conversation history (last {MAX_MEMORY} turns):\n",
    "    {memory}\n",
    "\n",
    "    User: {user_input}\n",
    "    Agent:\"\"\"\n",
    "\n",
    "    # Calling LLM\n",
    "    response = ollama.chat(\n",
    "        model=model,\n",
    "        messages=[{\"role\": \"user\", \"content\": prompt}],\n",
    "        # temperature=0.7\n",
    "    )\n",
    "\n",
    "    return response['message']['content'].strip()\n",
    "\n",
    "# Main loop to interact with the agent\n",
    "def main():\n",
    "    #Loading memory\n",
    "    memory = load_memory()\n",
    "    print(\"🤖 Agent started. Type 'exit' to quit.\\n\")\n",
    "\n",
    "    while True:\n",
    "        user_input = input(\"You: \").strip()\n",
    "        print(f\"You: {user_input}\")\n",
    "        # Exit condition\n",
    "        if user_input.lower() in [\"exit\", \"quit\"]:\n",
    "            print(\"💾 Saving memory and exiting...\")\n",
    "            save_memory(memory)\n",
    "            break\n",
    "\n",
    "        # Selecting las 5 memory\n",
    "        decision = agent(user_input, memory[-MAX_MEMORY:])\n",
    "\n",
    "        print(f\"# ---- 🤖 Agent decision ---- #\")\n",
    "        print(decision)\n",
    "        print(f\"# ---- 🤖 Agent Answer ---- #\")\n",
    "        \n",
    "        if decision.startswith(\"CALCULATE:\"):\n",
    "            expression = decision[len(\"CALCULATE:\"):].strip()\n",
    "            result = calculator_tool(expression)\n",
    "            # print(f\"Agent: {result}\")\n",
    "        elif decision.startswith(\"SEARCH:\"):\n",
    "            query = decision[len(\"SEARCH:\"):].strip()\n",
    "            result = web_search(query)\n",
    "            # print(f\"Agent: {result}\")\n",
    "        elif decision.startswith(\"ANSWER:\"):\n",
    "            result = decision[len(\"ANSWER:\"):].strip()\n",
    "            # print(f\"Agent: {result}\")\n",
    "        else:\n",
    "            result = \"I couldn't understand the decision format.\"\n",
    "        \n",
    "        # Print the result\n",
    "        print(f\"🤖 Agent: {result}\")\n",
    "\n",
    "        # Adding to memory\n",
    "        memory.append(f\"You: {user_input}\")\n",
    "        memory.append(f\"Agent: {result}\")\n",
    "\n",
    "        # Ensure memory does not exceed MAX_MEMORY\n",
    "        if len(memory) > MAX_MEMORY * 2:\n",
    "            memory = memory[-MAX_MEMORY * 2:]\n",
    "\n",
    "    return\n"
   ]
  },
  {
   "cell_type": "code",
   "execution_count": 8,
   "id": "00e28328",
   "metadata": {},
   "outputs": [
    {
     "name": "stdout",
     "output_type": "stream",
     "text": [
      "🤖 Agent started. Type 'exit' to quit.\n",
      "\n",
      "You: What is 15 * (3 + 2)?\n",
      "# ---- 🤖 Agent decision ---- #\n",
      "CALCULATE: 15 * (3 + 2) = 45\n",
      "# ---- 🤖 Agent Answer ---- #\n",
      "🤖 Agent: 75\n",
      "You: Tell me about India\n",
      "# ---- 🤖 Agent decision ---- #\n",
      "SEARCH: India\n",
      "# ---- 🤖 Agent Answer ---- #\n",
      "🤖 Agent: India, officially the Republic of India, is a country in South Asia. It is the seventh-largest country by area; the most populous country since 2023;\n",
      "Developmental Inclusive Alliance (INDIA) is a big tent multi-party political alliance of several political parties in India led by the country&#039;s largest opposition\n",
      "The economy of India is a developing mixed economy with a notable public sector in strategic sectors. It is the world&#039;s fourth-largest economy by nominal\n",
      "The Constitution of India is the supreme legal document of India, and the longest written national constitution in the world. The document lays down the\n",
      "India, colloquially called Tiraṅgā (the tricolour), is a horizontal rectangular tricolour flag, the colours being of India saffron, white and India green;\n",
      "India is the most populous country in the world, with one-sixth of the world&#039;s population. Between 1975 and 2010, the population doubled to 1.2 billion\n",
      "The Times of India (TOI) is an Indian English-language daily newspaper and digital news media owned and managed by the Times Group. It is the third-largest\n",
      "Languages of India belong to several language families, the major ones being the Indo-Aryan languages spoken by 78.05% of Indians and the Dravidian languages\n",
      "The president of India (ISO: Bhārata kē Rāṣṭrapati) is the head of state of the Republic of India. The president is the nominal head of the executive,\n",
      "between 2500 BCE and 1900 BCE in present-day Pakistan and north-western India. Early in the second millennium BCE, persistent drought caused the population\n",
      "You: Tell me a joke about Books\n",
      "# ---- 🤖 Agent decision ---- #\n",
      "ANSWER: Why was the book sad? Because it had a bad chapter in its life!\n",
      "# ---- 🤖 Agent Answer ---- #\n",
      "🤖 Agent: Why was the book sad? Because it had a bad chapter in its life!\n",
      "You: exit\n",
      "💾 Saving memory and exiting...\n"
     ]
    }
   ],
   "source": [
    "main()"
   ]
  },
  {
   "cell_type": "code",
   "execution_count": null,
   "id": "96155caa",
   "metadata": {},
   "outputs": [],
   "source": []
  }
 ],
 "metadata": {
  "kernelspec": {
   "display_name": "agentic-ai-tutorial",
   "language": "python",
   "name": "python3"
  },
  "language_info": {
   "codemirror_mode": {
    "name": "ipython",
    "version": 3
   },
   "file_extension": ".py",
   "mimetype": "text/x-python",
   "name": "python",
   "nbconvert_exporter": "python",
   "pygments_lexer": "ipython3",
   "version": "3.12.9"
  }
 },
 "nbformat": 4,
 "nbformat_minor": 5
}
