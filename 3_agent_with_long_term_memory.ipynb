{
 "cells": [
  {
   "cell_type": "markdown",
   "id": "04720e2c",
   "metadata": {},
   "source": [
    "# Notebook Details\n",
    "\n",
    "In this notebook we will give Long term memory.\n",
    "\n",
    "We have 2 tools:\n",
    "- 1. Calculator Tools.\n",
    "- 2. wikipwdia web search.\n",
    "\n",
    "We will store old conversion to a list and pass this histoy as context of the query"
   ]
  },
  {
   "cell_type": "markdown",
   "id": "5105a9d3",
   "metadata": {},
   "source": [
    "## Defining Tools"
   ]
  },
  {
   "cell_type": "code",
   "execution_count": 1,
   "id": "d140626e",
   "metadata": {},
   "outputs": [],
   "source": [
    "# import Necessary Library\n",
    "import requests\n",
    "import ollama\n",
    "import json\n",
    "import os"
   ]
  },
  {
   "cell_type": "code",
   "execution_count": 2,
   "id": "2a9bdad6",
   "metadata": {},
   "outputs": [],
   "source": [
    "# --- Configuration --- #\n",
    "MODEL_NAMAE = \"llama3.1\"\n",
    "MEMORY_PATH = \"memory.json\""
   ]
  },
  {
   "cell_type": "code",
   "execution_count": 3,
   "id": "c16bed8c",
   "metadata": {},
   "outputs": [],
   "source": [
    "# 1. Simple calculator tool\n",
    "def calculator_tool(query):\n",
    "    \"\"\"A simple calculator tool.\"\"\"\n",
    "    try:\n",
    "        # Keep only numbers, operators, parentheses, and dots\n",
    "        cleaned_expr = query.split('=')[0]  # Remove anything after '='\n",
    "        cleaned_expr = \"\".join(cleaned_expr).strip()\n",
    "        return str(eval(cleaned_expr))\n",
    "    except Exception as e:\n",
    "        return f\"Error in calculation: {e}\""
   ]
  },
  {
   "cell_type": "code",
   "execution_count": 4,
   "id": "f14bafc6",
   "metadata": {},
   "outputs": [],
   "source": [
    "# 2. Wikipedia search tool\n",
    "def web_search(query):\n",
    "    url = \"https://en.wikipedia.org/w/api.php\"\n",
    "    params = {\n",
    "        \"action\": \"query\",\n",
    "        \"list\": \"search\",\n",
    "        \"srsearch\": query,\n",
    "        \"format\": \"json\"\n",
    "    }\n",
    "    try:\n",
    "        response = requests.get(url, params=params)\n",
    "        data = response.json()\n",
    "        if \"query\" in data and \"search\" in data[\"query\"]:\n",
    "            results = [item['snippet'] for item in data['query']['search']]\n",
    "            return \"\\n\".join(results) if results else \"No results found on Wikipedia.\"\n",
    "        else:\n",
    "            return \"No results found.\"\n",
    "    except Exception as e:\n",
    "        return f\"Error searching Wikipedia: {e}\""
   ]
  },
  {
   "cell_type": "markdown",
   "id": "f0aacfdd",
   "metadata": {},
   "source": [
    "## Defining Memory"
   ]
  },
  {
   "cell_type": "code",
   "execution_count": 5,
   "id": "eee13693",
   "metadata": {},
   "outputs": [],
   "source": [
    "# Function to load memory from a file\n",
    "def load_memory():\n",
    "    if os.path.exists(MEMORY_PATH):\n",
    "        with open(MEMORY_PATH, \"r\") as f:\n",
    "            return json.load(f)\n",
    "    else:\n",
    "        # Start with a fresh system prompt if no memory file exists\n",
    "        return [{\n",
    "            \"role\": \"system\", \n",
    "            \"content\": \"\"\"\n",
    "            You are a helpful AI assistant. You can either perform calculations or search the web.\n",
    "            - CALCULATE: <math expression>\n",
    "            - SEARCH: <search query>\n",
    "            - ANSWER: <your answer>\n",
    "\n",
    "            Output ONLY one of the above actions on the FIRST line. \n",
    "            Do not explain your reasoning. Do not add extra commentary.\n",
    "\n",
    "            Always use the information from previous conversation if relevant.\n",
    "            Output ONLY one of the above actions on the FIRST line.\n",
    "            Do not explain your reasoning. Do not add extra commentary.\n",
    "           \n",
    "            Example:\n",
    "            Q: What is 12*(5+2)?\n",
    "            A: CALCULATE: 12*(5+2)\n",
    "            \n",
    "            Q: Who is the president of the USA?\n",
    "            A: SEARCH: Who is the president of the USA?\n",
    "            \n",
    "            Q: Tell me a joke about Cats.\n",
    "            A: ANSWER: Sure, here is a joke...\n",
    "            \"\"\"}]\n",
    "\n",
    "# Function to save memory to a file\n",
    "def save_memory(memory):\n",
    "    with open(MEMORY_PATH, \"w\") as f:\n",
    "        json.dump(memory, f, indent=4)"
   ]
  },
  {
   "cell_type": "code",
   "execution_count": 6,
   "id": "07f712a2",
   "metadata": {},
   "outputs": [
    {
     "data": {
      "text/plain": [
       "'memory.json'"
      ]
     },
     "execution_count": 6,
     "metadata": {},
     "output_type": "execute_result"
    }
   ],
   "source": [
    "MEMORY_PATH"
   ]
  },
  {
   "cell_type": "markdown",
   "id": "bdd0b2ad",
   "metadata": {},
   "source": [
    "## Defining Agent"
   ]
  },
  {
   "cell_type": "code",
   "execution_count": 7,
   "id": "1e7cf772",
   "metadata": {},
   "outputs": [],
   "source": [
    "# Loading memory\n",
    "memory = load_memory()"
   ]
  },
  {
   "cell_type": "code",
   "execution_count": 8,
   "id": "2ba89bea",
   "metadata": {},
   "outputs": [],
   "source": [
    "def agent(query, model=\"llama3.2:latest\"):\n",
    "    # Defining the global memory variable\n",
    "    global memory\n",
    "\n",
    "    # Adding user query to memory\n",
    "    memory.append({\"role\": \"user\", \"content\": query})\n",
    "\n",
    "    # Ask LLM with conversation history\n",
    "    decision_response = ollama.chat(\n",
    "        model=model,\n",
    "        messages=memory\n",
    "    )\n",
    "\n",
    "    # Extracting the tools name from decision response\n",
    "    decision = decision_response['message']['content'].strip()\n",
    "\n",
    "    # save model's reasoning memory\n",
    "    memory.append({\"role\": \"assistant\", \"content\": decision})\n",
    "\n",
    "    # Get  first line of (action)\n",
    "    first_line = decision.split('\\n')[0].strip()\n",
    "\n",
    "    print(f\"\\tDecision made by LLM: {first_line}\")\n",
    "\n",
    "    # Exectuing the tools\n",
    "    if \"CALCULATE\" in first_line:\n",
    "        expression = first_line.split(\"CALCULATE:\", 1)[1].strip()\n",
    "        result = calculator_tool(expression)\n",
    "    elif \"SEARCH:\" in first_line:\n",
    "        search_query = first_line.split(\"SEARCH:\")[1].strip()\n",
    "        result = web_search(search_query)\n",
    "    elif \"ANSWER:\" in first_line:\n",
    "        result = first_line.split(\"ANSWER:\")[1].strip()\n",
    "    else:\n",
    "        result = \"Invalid action specified.\"\n",
    "    \n",
    "    # Savinig Result to memory\n",
    "    memory.append({\"role\": \"assistant\", \"content\": result})\n",
    "\n",
    "    # Save to file\n",
    "    with open(\"memory.json\", \"w\") as f:\n",
    "        json.dump(memory, f)\n",
    "\n",
    "    return result\n"
   ]
  },
  {
   "cell_type": "code",
   "execution_count": 10,
   "id": "f7a625e4",
   "metadata": {},
   "outputs": [
    {
     "name": "stdout",
     "output_type": "stream",
     "text": [
      "\tDecision made by LLM: ANSWER: 50\n"
     ]
    },
    {
     "data": {
      "text/plain": [
       "'50'"
      ]
     },
     "execution_count": 10,
     "metadata": {},
     "output_type": "execute_result"
    }
   ],
   "source": [
    "agent(\"How many country is in Europe?\")"
   ]
  },
  {
   "cell_type": "code",
   "execution_count": 12,
   "id": "70b88b0f",
   "metadata": {},
   "outputs": [
    {
     "name": "stdout",
     "output_type": "stream",
     "text": [
      "\tDecision made by LLM: ANSWER: Sundar Pichai\n"
     ]
    },
    {
     "data": {
      "text/plain": [
       "'Sundar Pichai'"
      ]
     },
     "execution_count": 12,
     "metadata": {},
     "output_type": "execute_result"
    }
   ],
   "source": [
    "agent(\"Who is the ceo of Google?\")"
   ]
  },
  {
   "cell_type": "code",
   "execution_count": 10,
   "id": "6929cdcd",
   "metadata": {},
   "outputs": [
    {
     "name": "stdout",
     "output_type": "stream",
     "text": [
      "\tDecision made by LLM: ANSWER: 51\n"
     ]
    },
    {
     "data": {
      "text/plain": [
       "'51'"
      ]
     },
     "execution_count": 10,
     "metadata": {},
     "output_type": "execute_result"
    }
   ],
   "source": [
    "agent(\"How old is he?\")"
   ]
  },
  {
   "cell_type": "code",
   "execution_count": 11,
   "id": "929cde51",
   "metadata": {},
   "outputs": [
    {
     "name": "stdout",
     "output_type": "stream",
     "text": [
      "\tDecision made by LLM: ANSWER: Stanford University\n"
     ]
    },
    {
     "data": {
      "text/plain": [
       "'Stanford University'"
      ]
     },
     "execution_count": 11,
     "metadata": {},
     "output_type": "execute_result"
    }
   ],
   "source": [
    "agent(\"From which institution did he graduate?\")"
   ]
  },
  {
   "cell_type": "code",
   "execution_count": null,
   "id": "1a583d74",
   "metadata": {},
   "outputs": [],
   "source": []
  }
 ],
 "metadata": {
  "kernelspec": {
   "display_name": "agentic-ai-tutorial",
   "language": "python",
   "name": "python3"
  },
  "language_info": {
   "codemirror_mode": {
    "name": "ipython",
    "version": 3
   },
   "file_extension": ".py",
   "mimetype": "text/x-python",
   "name": "python",
   "nbconvert_exporter": "python",
   "pygments_lexer": "ipython3",
   "version": "3.12.9"
  }
 },
 "nbformat": 4,
 "nbformat_minor": 5
}
