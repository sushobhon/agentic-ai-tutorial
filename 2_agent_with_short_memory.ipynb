{
 "cells": [
  {
   "cell_type": "markdown",
   "id": "e13671f8",
   "metadata": {},
   "source": [
    "# Notebook Details\n",
    "\n",
    "In this notebook we will give short term memory.\n",
    "\n",
    "We have 2 tools:\n",
    "- 1. Calculator Tools.\n",
    "- 2. wikipwdia web search.\n",
    "\n",
    "We will store old conversion to a list and pass this histoy as context of the query"
   ]
  },
  {
   "cell_type": "markdown",
   "id": "6e38e3ae",
   "metadata": {},
   "source": [
    "## Defining Tools"
   ]
  },
  {
   "cell_type": "code",
   "execution_count": 1,
   "id": "2f831370",
   "metadata": {},
   "outputs": [],
   "source": [
    "# import Necessary Library\n",
    "import requests\n",
    "import ollama"
   ]
  },
  {
   "cell_type": "code",
   "execution_count": 2,
   "id": "ca24bcf9",
   "metadata": {},
   "outputs": [],
   "source": [
    "# 1. Simple calculator tool\n",
    "def calculator_tool(query):\n",
    "    \"\"\"A simple calculator tool.\"\"\"\n",
    "    try:\n",
    "        # Keep only numbers, operators, parentheses, and dots\n",
    "        cleaned_expr = query.split('=')[0]  # Remove anything after '='\n",
    "        cleaned_expr = \"\".join(cleaned_expr).strip()\n",
    "        return str(eval(cleaned_expr))\n",
    "    except Exception as e:\n",
    "        return f\"Error in calculation: {e}\""
   ]
  },
  {
   "cell_type": "code",
   "execution_count": 3,
   "id": "e53bb88f",
   "metadata": {},
   "outputs": [],
   "source": [
    "# 2. Wikipedia search tool\n",
    "def web_search(query):\n",
    "    url = \"https://en.wikipedia.org/w/api.php\"\n",
    "    params = {\n",
    "        \"action\": \"query\",\n",
    "        \"list\": \"search\",\n",
    "        \"srsearch\": query,\n",
    "        \"format\": \"json\"\n",
    "    }\n",
    "    try:\n",
    "        response = requests.get(url, params=params)\n",
    "        data = response.json()\n",
    "        if \"query\" in data and \"search\" in data[\"query\"]:\n",
    "            results = [item['snippet'] for item in data['query']['search']]\n",
    "            return \"\\n\".join(results) if results else \"No results found on Wikipedia.\"\n",
    "        else:\n",
    "            return \"No results found.\"\n",
    "    except Exception as e:\n",
    "        return f\"Error searching Wikipedia: {e}\""
   ]
  },
  {
   "cell_type": "markdown",
   "id": "cfd4d051",
   "metadata": {},
   "source": [
    "## Defining Memory"
   ]
  },
  {
   "cell_type": "code",
   "execution_count": 4,
   "id": "f6df1d04",
   "metadata": {},
   "outputs": [],
   "source": [
    "memory = [\n",
    "    {\n",
    "        'role': 'system',\n",
    "        'content': \"\"\"\n",
    "                    You are a helpful AI assistant. You can either perform calculations or search the web.\n",
    "                    - CALCULATE: <math expression>\n",
    "                    - SEARCH: <search query>\n",
    "                    - ANSWER: <your answer>\n",
    "\n",
    "                    Always use the information from previous conversation if relevant.\n",
    "                    Output ONLY one of the above actions on the FIRST line.\n",
    "                    Do not explain your reasoning. Do not add extra commentary.\n",
    "\n",
    "                    Output ONLY one of the above actions on the FIRST line. \n",
    "                    Do not explain your reasoning. Do not add extra commentary.\n",
    "                    \n",
    "                    Example:\n",
    "                    Q: What is 12*(5+2)?\n",
    "                    A: CALCULATE: 12*(5+2)\n",
    "                    \n",
    "                    Q: Who is the president of the USA?\n",
    "                    A: SEARCH: Who is the president of the USA?\n",
    "                    \n",
    "                    Q: Tell me a joke about Cats.\n",
    "                    A: ANSWER: Sure, here is a joke...\n",
    "                    \"\"\"\n",
    "    }\n",
    "]"
   ]
  },
  {
   "cell_type": "markdown",
   "id": "25d3a285",
   "metadata": {},
   "source": [
    "## Defining Agent"
   ]
  },
  {
   "cell_type": "code",
   "execution_count": 9,
   "id": "901d16f9",
   "metadata": {},
   "outputs": [],
   "source": [
    "def agent(query, model=\"llama3.2:latest\"):\n",
    "    # Adding user query to memory\n",
    "    memory.append({\"role\": \"user\", \"content\": query})\n",
    "\n",
    "    # Ask LLM with conversation history\n",
    "    decision_response = ollama.chat(\n",
    "        model=model,\n",
    "        messages=memory\n",
    "    )\n",
    "\n",
    "    # Extracting the tools name from decision response\n",
    "    decision = decision_response['message']['content'].strip()\n",
    "\n",
    "    # save model's reasoning memory\n",
    "    memory.append({\"role\": \"assistant\", \"content\": decision})\n",
    "\n",
    "    # Get  first line of (action)\n",
    "    first_line = decision.split('\\n')[0].strip()\n",
    "\n",
    "    print(f\"\\tDecision made by LLM: {first_line}\")\n",
    "\n",
    "    # Exectuing the tools\n",
    "    if \"CALCULATE\" in first_line:\n",
    "        expression = first_line.split(\"CALCULATE:\", 1)[1].strip()\n",
    "        result = calculator_tool(expression)\n",
    "    elif \"SEARCH:\" in first_line:\n",
    "        search_query = first_line.split(\"SEARCH:\")[1].strip()\n",
    "        result = web_search(search_query)\n",
    "    elif \"ANSWER:\" in first_line:\n",
    "        result = first_line.split(\"ANSWER:\")[1].strip()\n",
    "    else:\n",
    "        result = \"Invalid action specified.\"\n",
    "    \n",
    "    # Savinig Result to memory\n",
    "    memory.append({\"role\": \"assistant\", \"content\": result})\n",
    "\n",
    "    return result\n"
   ]
  },
  {
   "cell_type": "code",
   "execution_count": 10,
   "id": "f4c703c0",
   "metadata": {},
   "outputs": [
    {
     "name": "stdout",
     "output_type": "stream",
     "text": [
      "\tDecision made by LLM: A: CALCULATE: \"Sundar Pichai\"\n",
      "Sundar Pichai\n"
     ]
    }
   ],
   "source": [
    "\n",
    "print(agent(\"Who is the ceo of Google?\"))"
   ]
  },
  {
   "cell_type": "code",
   "execution_count": 11,
   "id": "58cceb44",
   "metadata": {},
   "outputs": [
    {
     "name": "stdout",
     "output_type": "stream",
     "text": [
      "[{'role': 'system', 'content': '\\n                    You are a helpful AI assistant. You can either perform calculations or search the web.\\n                    - CALCULATE: <math expression>\\n                    - SEARCH: <search query>\\n                    - ANSWER: <your answer>\\n\\n                    Always use the information from previous conversation if relevant.\\n                    Output ONLY one of the above actions on the FIRST line.\\n                    Do not explain your reasoning. Do not add extra commentary.\\n\\n                    Output ONLY one of the above actions on the FIRST line. \\n                    Do not explain your reasoning. Do not add extra commentary.\\n\\n                    Example:\\n                    Q: What is 12*(5+2)?\\n                    A: CALCULATE: 12*(5+2)\\n\\n                    Q: Who is the president of the USA?\\n                    A: SEARCH: Who is the president of the USA?\\n\\n                    Q: Tell me a joke about Cats.\\n                    A: ANSWER: Sure, here is a joke...\\n                    '}, {'role': 'user', 'content': 'Who is the ceo of Google?'}, {'role': 'assistant', 'content': 'SEARCH: CEO of Google'}, {'role': 'assistant', 'content': 'business executive. He is the chief executive officer (<span class=\"searchmatch\">CEO</span>) <span class=\"searchmatch\">of</span> Alphabet Inc. and its subsidiary <span class=\"searchmatch\">Google</span>. Pichai began his career as a materials engineer. Following\\nappointed <span class=\"searchmatch\">CEO</span> <span class=\"searchmatch\">of</span> <span class=\"searchmatch\">Google</span> on October 24, 2015, replacing Larry Page, who became the <span class=\"searchmatch\">CEO</span> <span class=\"searchmatch\">of</span> Alphabet. On December 3, 2019, Pichai also became the <span class=\"searchmatch\">CEO</span> <span class=\"searchmatch\">of</span> Alphabet\\n<span class=\"searchmatch\">CEO</span> role to be filled by Sundar Pichai, who is also the <span class=\"searchmatch\">CEO</span> <span class=\"searchmatch\">of</span> <span class=\"searchmatch\">Google</span>. Page and Brin remain employees, board members, and controlling shareholders <span class=\"searchmatch\">of</span>\\nSchmidt, the former <span class=\"searchmatch\">CEO</span> <span class=\"searchmatch\">of</span> <span class=\"searchmatch\">Google</span>, whom she met in graduate school at the University <span class=\"searchmatch\">of</span> California, Berkeley. She is the president <span class=\"searchmatch\">of</span> the Schmidt Family\\ncompany&#039;s artificial intelligence (AI) efforts. Sundar Pichai, the <span class=\"searchmatch\">CEO</span> <span class=\"searchmatch\">of</span> <span class=\"searchmatch\">Google</span> and parent company Alphabet, was widely reported to have issued the\\nfrom the position <span class=\"searchmatch\">of</span> Alphabet <span class=\"searchmatch\">CEO</span> and be replaced by <span class=\"searchmatch\">Google</span> <span class=\"searchmatch\">CEO</span> Sundar Pichai. Pichai also continued as <span class=\"searchmatch\">Google</span> <span class=\"searchmatch\">CEO</span>. Page and <span class=\"searchmatch\">Google</span> co-founder and Alphabet\\nassigned to the <span class=\"searchmatch\">CEO</span> <span class=\"searchmatch\">of</span> a public company and focused on the management <span class=\"searchmatch\">of</span> the vice presidents and the sales organization. According to <span class=\"searchmatch\">Google</span>, Schmidt&#039;s job\\n2015-01-18. Retrieved 2014-08-08. &quot;Indian American Thomas Kurian is the new <span class=\"searchmatch\">CEO</span> <span class=\"searchmatch\">of</span> <span class=\"searchmatch\">Google</span> Cloud: Here&#039;s what you need to know about him&quot;. November 17, 2018. Archived\\n<span class=\"searchmatch\">Google</span> Search (also known simply as <span class=\"searchmatch\">Google</span> or <span class=\"searchmatch\">Google</span>.com) is a search engine operated by <span class=\"searchmatch\">Google</span>. It allows users to search for information on the Web\\nthe success <span class=\"searchmatch\">of</span> YouTube, she suggested that <span class=\"searchmatch\">Google</span> should buy it; the deal was approved for $1.65\\xa0billion in 2006. She was appointed <span class=\"searchmatch\">CEO</span> <span class=\"searchmatch\">of</span> YouTube in 2014'}, {'role': 'user', 'content': 'Who is the ceo of Google?'}, {'role': 'assistant', 'content': 'A: Sundar Pichai'}, {'role': 'assistant', 'content': 'Invalid action specified.'}, {'role': 'user', 'content': 'Who is the ceo of Google?'}, {'role': 'assistant', 'content': 'A: CALCULATE: \"Sundar Pichai\"\\n\\nInvalid action specified.'}, {'role': 'assistant', 'content': 'Sundar Pichai'}]\n"
     ]
    }
   ],
   "source": [
    "print(memory)"
   ]
  },
  {
   "cell_type": "code",
   "execution_count": 12,
   "id": "bb8346a2",
   "metadata": {},
   "outputs": [
    {
     "name": "stdout",
     "output_type": "stream",
     "text": [
      "\tDecision made by LLM: A: ANSWER: Sundar Pichai was born on December 12, 1972. He is currently 51 years old.\n",
      "Sundar Pichai was born on December 12, 1972. He is currently 51 years old.\n"
     ]
    }
   ],
   "source": [
    "print(agent(\"How old is he?\"))"
   ]
  }
 ],
 "metadata": {
  "kernelspec": {
   "display_name": "agentic-ai-tutorial",
   "language": "python",
   "name": "python3"
  },
  "language_info": {
   "codemirror_mode": {
    "name": "ipython",
    "version": 3
   },
   "file_extension": ".py",
   "mimetype": "text/x-python",
   "name": "python",
   "nbconvert_exporter": "python",
   "pygments_lexer": "ipython3",
   "version": "3.12.9"
  }
 },
 "nbformat": 4,
 "nbformat_minor": 5
}
